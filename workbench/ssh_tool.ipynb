{
 "cells": [
  {
   "cell_type": "markdown",
   "metadata": {},
   "source": [
    "1. Run ```docker run -d -p 2222:22 --name mysshserver rastasheep/ubuntu-sshd``` to setup a local linux container with ssh enabled on port 2222\n",
    "2. Make sure you have paramiko installed: ```pip install paramiko```\n"
   ]
  },
  {
   "cell_type": "markdown",
   "metadata": {},
   "source": [
    "NOTE: This implementation is slightly different from the ShellHandler actually used in the react agent (the other implementation uses private key file name and doesn't require password)."
   ]
  },
  {
   "cell_type": "markdown",
   "metadata": {},
   "source": [
    "This implementation is copied from [stackoverflow](https://stackoverflow.com/a/36948840) with slight changes (echo command is run together with the user command)."
   ]
  },
  {
   "cell_type": "code",
   "execution_count": 33,
   "metadata": {},
   "outputs": [],
   "source": [
    "import paramiko\n",
    "import re\n",
    "\n",
    "class ShellHandler:\n",
    "\n",
    "    def __init__(self, hostname, username, password):\n",
    "        self.ssh = paramiko.SSHClient()\n",
    "        self.ssh.set_missing_host_key_policy(paramiko.AutoAddPolicy())\n",
    "        self.ssh.connect(hostname, username=username, password=password, port=2222)\n",
    "\n",
    "        channel = self.ssh.invoke_shell()\n",
    "        self.stdin = channel.makefile('wb')\n",
    "        self.stdout = channel.makefile('r')\n",
    "\n",
    "    def __del__(self):\n",
    "        self.ssh.close()\n",
    "        \n",
    "    def pretty_execute(self, cmd):\n",
    "        shin, shout, sherr = self.execute(cmd)\n",
    "        output = ''.join(shout)\n",
    "        error = ''.join(sherr)\n",
    "        return output if len(error) == 0 else f\"\"\"{output}\\nError: {error}\"\"\"\n",
    "\n",
    "    def execute(self, cmd):\n",
    "        \"\"\"\n",
    "\n",
    "        :param cmd: the command to be executed on the remote computer\n",
    "        :examples:  execute('ls')\n",
    "                    execute('finger')\n",
    "                    execute('cd folder_name')\n",
    "        \"\"\"\n",
    "        cmd = cmd.strip('\\n')\n",
    "        finish = 'end of stdOUT buffer. finished with exit status'\n",
    "        echo_cmd = \"echo {} $?\".format(finish)\n",
    "        self.stdin.write(cmd + ' ; ' + echo_cmd + '\\n')\n",
    "        shin = self.stdin\n",
    "        self.stdin.flush()\n",
    "\n",
    "        shout = []\n",
    "        sherr = []\n",
    "        exit_status = 0\n",
    "        for line in self.stdout:\n",
    "            if echo_cmd in str(line):\n",
    "                # up for now filled with shell junk from stdin\n",
    "                shout = []\n",
    "            elif finish in str(line):\n",
    "                # our finish command ends with the exit status\n",
    "                exit_status = int(str(line).rsplit(maxsplit=1)[1])\n",
    "                index = str(line).find(finish)\n",
    "                shout.append(str(line)[:index]) \n",
    "                if exit_status:\n",
    "                    # stderr is combined with stdout.\n",
    "                    # thus, swap sherr with shout in a case of failure.\n",
    "                    sherr = list(shout)\n",
    "                    shout = []\n",
    "                break\n",
    "            else:\n",
    "                # get rid of 'coloring and formatting' special characters\n",
    "                formatted_line = re.compile(r'(\\x9B|\\x1B\\[)[0-?]*[ -/]*[@-~]').sub('', line).replace('\\b', '').replace('\\r', '')\n",
    "                shout.append(formatted_line)\n",
    "\n",
    "        return shin, shout, sherr"
   ]
  },
  {
   "cell_type": "code",
   "execution_count": 34,
   "metadata": {},
   "outputs": [],
   "source": [
    "shell_handler = ShellHandler(\n",
    "    hostname=\"localhost\",\n",
    "    username=\"root\",\n",
    "    password=\"root\",    \n",
    ")"
   ]
  },
  {
   "cell_type": "code",
   "execution_count": 36,
   "metadata": {},
   "outputs": [
    {
     "name": "stdout",
     "output_type": "stream",
     "text": [
      "\u001b[?2004hadmin@ip-172-31-36-211:~$ ls ; echo end of stdOUT buffer. finished with exit status $?\n",
      "\n",
      "\u001b[0m\u001b[01;34mresources\u001b[0m\n",
      "\n",
      "end of stdOUT buffer. finished with exit status 0\n",
      "\n",
      "0\n",
      "resources\n",
      "\n"
     ]
    }
   ],
   "source": [
    "print(shell_handler.pretty_execute(\"ls\"))"
   ]
  },
  {
   "cell_type": "code",
   "execution_count": 37,
   "metadata": {},
   "outputs": [
    {
     "name": "stdout",
     "output_type": "stream",
     "text": [
      "\u001b[?2004hadmin@ip-172-31-36-211:~$ pwd ; echo end of stdOUT buffer. finished with exit status $?\n",
      "\n",
      "/home/admin\n",
      "\n",
      "end of stdOUT buffer. finished with exit status 0\n",
      "\n",
      "0\n",
      "/home/admin\n",
      "\n"
     ]
    }
   ],
   "source": [
    "print(shell_handler.pretty_execute(\"pwd\"))"
   ]
  },
  {
   "cell_type": "code",
   "execution_count": 38,
   "metadata": {},
   "outputs": [
    {
     "name": "stdout",
     "output_type": "stream",
     "text": [
      "\u001b[?2004hadmin@ip-172-31-36-211:~$ cd resources ; echo end of stdOUT buffer. finished with exit status $?\n",
      "\n",
      "end of stdOUT buffer. finished with exit status 0\n",
      "\n",
      "9\n",
      "\u001b[?2004l\n"
     ]
    }
   ],
   "source": [
    "print(shell_handler.pretty_execute(\"cd ..\"))"
   ]
  },
  {
   "cell_type": "code",
   "execution_count": 39,
   "metadata": {},
   "outputs": [
    {
     "name": "stdout",
     "output_type": "stream",
     "text": [
      "\u001b[?2004hadmin@ip-172-31-36-211:~/resources$ ls ; echo end of stdOUT buffer. finished with exit status $?\n",
      "\n",
      "\u001b[0m\u001b[01;34mA\u001b[0m  \u001b[01;34mC\u001b[0m  \u001b[01;34mD\u001b[0m  start.txt\n",
      "\n",
      "end of stdOUT buffer. finished with exit status 0\n",
      "\n",
      "0\n",
      "A  C  D  start.txt\n",
      "\n"
     ]
    }
   ],
   "source": [
    "print(shell_handler.pretty_execute(\"ls\"))"
   ]
  },
  {
   "cell_type": "code",
   "execution_count": 40,
   "metadata": {},
   "outputs": [
    {
     "name": "stdout",
     "output_type": "stream",
     "text": [
      "\u001b[?2004hadmin@ip-172-31-36-211:~/resources$ pinkkk ; echo end of stdOUT buffer. finished with exit status $?\n",
      "\n",
      "-bash: pinkkk: command not found\n",
      "\n",
      "end of stdOUT buffer. finished with exit status 127\n",
      "\n",
      "0\n",
      "\n",
      "Error: -bash: pinkkk: command not found\n",
      "\n"
     ]
    }
   ],
   "source": [
    "print(shell_handler.pretty_execute(\"pinkkk\"))"
   ]
  },
  {
   "cell_type": "code",
   "execution_count": 41,
   "metadata": {},
   "outputs": [
    {
     "name": "stdout",
     "output_type": "stream",
     "text": [
      "\u001b[?2004hadmin@ip-172-31-36-211:~/resources$ python ; echo end of stdOUT buffer. finished with exit status $?\n",
      "\n",
      "-bash: python: command not found\n",
      "\n",
      "end of stdOUT buffer. finished with exit status 127\n",
      "\n",
      "0\n",
      "\n",
      "Error: -bash: python: command not found\n",
      "\n"
     ]
    }
   ],
   "source": [
    "print(shell_handler.pretty_execute(\"python\"))"
   ]
  },
  {
   "cell_type": "code",
   "execution_count": 42,
   "metadata": {},
   "outputs": [
    {
     "name": "stdout",
     "output_type": "stream",
     "text": [
      "\u001b[?2004hadmin@ip-172-31-36-211:~/resources$ apt update ; echo end of stdOUT buffer. finished with exit status $?\n",
      "\n",
      "Reading package lists... Done\n",
      "\n",
      "\u001b[1;31mE: \u001b[0mCould not open lock file /var/lib/apt/lists/lock - open (13: Permission denied)\u001b[0m\n",
      "\n",
      "\u001b[1;31mE: \u001b[0mUnable to lock directory /var/lib/apt/lists/\u001b[0m\n",
      "\n",
      "\u001b[1;33mW: \u001b[0mProblem unlinking the file /var/cache/apt/pkgcache.bin - RemoveCaches (13: Permission denied)\u001b[0m\n",
      "\n",
      "\u001b[1;33mW: \u001b[0mProblem unlinking the file /var/cache/apt/srcpkgcache.bin - RemoveCaches (13: Permission denied)\u001b[0m\n",
      "\n",
      "end of stdOUT buffer. finished with exit status 100\n",
      "\n",
      "0\n",
      "\n",
      "Error: Reading package lists... 0%Reading package lists... 100%Reading package lists... Done\n",
      "E: Could not open lock file /var/lib/apt/lists/lock - open (13: Permission denied)\n",
      "E: Unable to lock directory /var/lib/apt/lists/\n",
      "W: Problem unlinking the file /var/cache/apt/pkgcache.bin - RemoveCaches (13: Permission denied)\n",
      "W: Problem unlinking the file /var/cache/apt/srcpkgcache.bin - RemoveCaches (13: Permission denied)\n",
      "\n"
     ]
    }
   ],
   "source": [
    "print(shell_handler.pretty_execute(\"apt update\"))"
   ]
  },
  {
   "cell_type": "code",
   "execution_count": null,
   "metadata": {},
   "outputs": [],
   "source": []
  }
 ],
 "metadata": {
  "kernelspec": {
   "display_name": "llms",
   "language": "python",
   "name": "python3"
  },
  "language_info": {
   "codemirror_mode": {
    "name": "ipython",
    "version": 3
   },
   "file_extension": ".py",
   "mimetype": "text/x-python",
   "name": "python",
   "nbconvert_exporter": "python",
   "pygments_lexer": "ipython3",
   "version": "3.10.14"
  }
 },
 "nbformat": 4,
 "nbformat_minor": 2
}
