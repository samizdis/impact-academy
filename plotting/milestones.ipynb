{
 "cells": [
  {
   "cell_type": "code",
   "execution_count": 1,
   "metadata": {},
   "outputs": [],
   "source": [
    "import numpy as np\n",
    "import matplotlib.pyplot as plt\n",
    "import pandas as pd\n",
    "import seaborn as sns"
   ]
  },
  {
   "cell_type": "code",
   "execution_count": 2,
   "metadata": {},
   "outputs": [
    {
     "name": "stdout",
     "output_type": "stream",
     "text": [
      "   cbm  milestones  total milestones  fraction of milestones reached variant  \\\n",
      "0  SWE           2                 9                            0.22    easy   \n",
      "1  SWE           3                 9                            0.33    easy   \n",
      "2  SWE           9                 9                            1.00    easy   \n",
      "3  SWE           9                 9                            1.00    easy   \n",
      "4  SWE           2                 9                            0.22    easy   \n",
      "\n",
      "         agent  \n",
      "0  ReAct + SSH  \n",
      "1  ReAct + SSH  \n",
      "2  ReAct + SSH  \n",
      "3  ReAct + SSH  \n",
      "4  ReAct + SSH  \n"
     ]
    }
   ],
   "source": [
    "# Replace this with your Google Sheet ID\n",
    "sheet_id = '1vBpZshaXTRWMJ-fh0BjzjrOcjZO6bvg1oGw8526f-38'\n",
    "\n",
    "# Construct the CSV export URL\n",
    "csv_url = f'https://docs.google.com/spreadsheets/d/{sheet_id}/export?format=csv'\n",
    "\n",
    "# Use pandas to read the CSV\n",
    "df = pd.read_csv(csv_url)\n",
    "\n",
    "# Display the first few rows of the dataframe\n",
    "print(df.head())"
   ]
  },
  {
   "cell_type": "code",
   "execution_count": 3,
   "metadata": {},
   "outputs": [
    {
     "data": {
      "text/html": [
       "<div>\n",
       "<style scoped>\n",
       "    .dataframe tbody tr th:only-of-type {\n",
       "        vertical-align: middle;\n",
       "    }\n",
       "\n",
       "    .dataframe tbody tr th {\n",
       "        vertical-align: top;\n",
       "    }\n",
       "\n",
       "    .dataframe thead th {\n",
       "        text-align: right;\n",
       "    }\n",
       "</style>\n",
       "<table border=\"1\" class=\"dataframe\">\n",
       "  <thead>\n",
       "    <tr style=\"text-align: right;\">\n",
       "      <th></th>\n",
       "      <th>cbm</th>\n",
       "      <th>milestones</th>\n",
       "      <th>total milestones</th>\n",
       "      <th>fraction of milestones reached</th>\n",
       "      <th>variant</th>\n",
       "      <th>agent</th>\n",
       "    </tr>\n",
       "  </thead>\n",
       "  <tbody>\n",
       "    <tr>\n",
       "      <th>0</th>\n",
       "      <td>SWE</td>\n",
       "      <td>2</td>\n",
       "      <td>9</td>\n",
       "      <td>0.22</td>\n",
       "      <td>easy</td>\n",
       "      <td>ReAct + SSH</td>\n",
       "    </tr>\n",
       "    <tr>\n",
       "      <th>1</th>\n",
       "      <td>SWE</td>\n",
       "      <td>3</td>\n",
       "      <td>9</td>\n",
       "      <td>0.33</td>\n",
       "      <td>easy</td>\n",
       "      <td>ReAct + SSH</td>\n",
       "    </tr>\n",
       "    <tr>\n",
       "      <th>2</th>\n",
       "      <td>SWE</td>\n",
       "      <td>9</td>\n",
       "      <td>9</td>\n",
       "      <td>1.00</td>\n",
       "      <td>easy</td>\n",
       "      <td>ReAct + SSH</td>\n",
       "    </tr>\n",
       "    <tr>\n",
       "      <th>3</th>\n",
       "      <td>SWE</td>\n",
       "      <td>9</td>\n",
       "      <td>9</td>\n",
       "      <td>1.00</td>\n",
       "      <td>easy</td>\n",
       "      <td>ReAct + SSH</td>\n",
       "    </tr>\n",
       "    <tr>\n",
       "      <th>4</th>\n",
       "      <td>SWE</td>\n",
       "      <td>2</td>\n",
       "      <td>9</td>\n",
       "      <td>0.22</td>\n",
       "      <td>easy</td>\n",
       "      <td>ReAct + SSH</td>\n",
       "    </tr>\n",
       "  </tbody>\n",
       "</table>\n",
       "</div>"
      ],
      "text/plain": [
       "   cbm  milestones  total milestones  fraction of milestones reached variant  \\\n",
       "0  SWE           2                 9                            0.22    easy   \n",
       "1  SWE           3                 9                            0.33    easy   \n",
       "2  SWE           9                 9                            1.00    easy   \n",
       "3  SWE           9                 9                            1.00    easy   \n",
       "4  SWE           2                 9                            0.22    easy   \n",
       "\n",
       "         agent  \n",
       "0  ReAct + SSH  \n",
       "1  ReAct + SSH  \n",
       "2  ReAct + SSH  \n",
       "3  ReAct + SSH  \n",
       "4  ReAct + SSH  "
      ]
     },
     "execution_count": 3,
     "metadata": {},
     "output_type": "execute_result"
    }
   ],
   "source": [
    "df = pd.read_csv(csv_url)\n",
    "df.head()"
   ]
  },
  {
   "cell_type": "code",
   "execution_count": 4,
   "metadata": {},
   "outputs": [
    {
     "name": "stdout",
     "output_type": "stream",
     "text": [
      "[['easy', 'hard'], ['easy', 'hard'], ['easy', 'hard'], ['easy', 'medium', 'hard', 'very hard']]\n"
     ]
    }
   ],
   "source": [
    "# remove unused variants\n",
    "dummy_cat = pd.CategoricalDtype(['easy', 'medium', 'hard', 'very hard'])\n",
    "order = [[\"easy\", \"hard\"], [\"easy\", \"hard\"], [\"easy\", \"hard\"], [\"easy\", \"medium\", \"hard\", \"very hard\"]]\n",
    "print(order)"
   ]
  },
  {
   "cell_type": "code",
   "execution_count": 5,
   "metadata": {},
   "outputs": [],
   "source": [
    "include_agent_variants = False\n",
    "\n",
    "if not include_agent_variants:\n",
    "    df = df[df['agent'] == 'ReAct']\n",
    "    "
   ]
  },
  {
   "cell_type": "code",
   "execution_count": 6,
   "metadata": {},
   "outputs": [
    {
     "data": {
      "image/png": "[encoded data removed]",
      "text/plain": [
       "<Figure size 1060x400 with 4 Axes>"
      ]
     },
     "metadata": {},
     "output_type": "display_data"
    }
   ],
   "source": [
    "import matplotlib.pyplot as plt\n",
    "import matplotlib.gridspec as gridspec\n",
    "import seaborn as sns\n",
    "\n",
    "# Filter the DataFrame to retain only non-empty cbm-variant combinations\n",
    "df_filtered = df.groupby(['cbm', 'variant']).filter(lambda x: len(x) > 0)\n",
    "\n",
    "# Get the unique cbm values that have data\n",
    "unique_cbms = df_filtered['cbm'].unique()\n",
    "\n",
    "# Set uniform width for all boxes except the last one\n",
    "uniform_width = 2.25\n",
    "last_box_width = 3.85  # Adjust this value to make the last box wider\n",
    "num_boxes = len(unique_cbms)\n",
    "\n",
    "# Create width ratios list\n",
    "width_ratios = [uniform_width] * (num_boxes - 1) + [last_box_width]\n",
    "\n",
    "# Calculate total width\n",
    "total_width = sum(width_ratios)\n",
    "\n",
    "# Create a figure with GridSpec to allow variable width subplots\n",
    "fig = plt.figure(figsize=(total_width, 4))\n",
    "gs = gridspec.GridSpec(1, num_boxes, width_ratios=width_ratios)\n",
    "\n",
    "# Loop through each cbm and create a separate swarm plot\n",
    "for i, cbm in enumerate(unique_cbms):\n",
    "    # Create an axis for each cbm with GridSpec\n",
    "    ax = plt.subplot(gs[i])\n",
    "    \n",
    "    # Filter the data for the specific cbm\n",
    "    df_cbm = df_filtered[df_filtered['cbm'] == cbm]\n",
    "    \n",
    "    # Identify the variants that have data for this cbm\n",
    "    variants_with_data = df_cbm['variant'].unique()\n",
    "    if len(variants_with_data) == 2:\n",
    "        variants_with_data = [\"easy\", \"hard\"]\n",
    "    else:\n",
    "        variants_with_data = [\"easy\", \"medium\", \"hard\", \"very hard\"]\n",
    "    \n",
    "    # Create a swarm plot on the corresponding axis, showing only relevant variants\n",
    "    if include_agent_variants:\n",
    "        sns.swarmplot(\n",
    "            data=df_cbm, x=\"variant\", y=\"fraction of milestones reached\", hue=\"agent\", dodge=True,\n",
    "            ax=ax, order=variants_with_data, hue_order=[\"ReAct\", \"ReAct + SSH\"], size=4.3\n",
    "        )\n",
    "    else:\n",
    "        sns.swarmplot(\n",
    "            data=df_cbm, x=\"variant\", y=\"fraction of milestones reached\", hue=\"agent\", dodge=True,\n",
    "            ax=ax, order=variants_with_data, size=4.3\n",
    "        )\n",
    "    \n",
    "    # Set title for each subplot\n",
    "    ax.set_title(cbm)\n",
    "    ax.set_xlabel(\"\")\n",
    "    ax.set_ylim(bottom=-0.1, top=1.1)\n",
    "    \n",
    "    # Remove the legend for each subplot\n",
    "    ax.get_legend().remove()\n",
    "    \n",
    "    # Remove the x-axis label for all but the last subplot\n",
    "    if i == 0:\n",
    "        ax.set_ylabel(\"% milestones completed\")\n",
    "    else:\n",
    "        ax.set_ylabel(\"\")\n",
    "\n",
    "    # Adjust x-axis labels for better readability\n",
    "    ax.set_xticklabels(ax.get_xticklabels(), rotation=45, ha='right')\n",
    "\n",
    "# Add a global legend\n",
    "if include_agent_variants:\n",
    "    handles, labels = ax.get_legend_handles_labels()\n",
    "    fig.legend(handles, labels, loc='upper center', ncol=2)\n",
    "\n",
    "# Adjust layout for better fit\n",
    "plt.tight_layout(rect=[0, 0.05, 1, 0.95])  # Leave space for the common legend\n",
    "\n",
    "# Save the figure before showing\n",
    "plt.savefig('milestones.png', dpi=400)\n",
    "plt.show()"
   ]
  }
 ],
 "metadata": {
  "kernelspec": {
   "display_name": "base",
   "language": "python",
   "name": "python3"
  },
  "language_info": {
   "codemirror_mode": {
    "name": "ipython",
    "version": 3
   },
   "file_extension": ".py",
   "mimetype": "text/x-python",
   "name": "python",
   "nbconvert_exporter": "python",
   "pygments_lexer": "ipython3",
   "version": "3.9.13"
  }
 },
 "nbformat": 4,
 "nbformat_minor": 2
}
