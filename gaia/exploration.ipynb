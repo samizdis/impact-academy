{
 "cells": [
  {
   "cell_type": "code",
   "execution_count": 1,
   "metadata": {},
   "outputs": [
    {
     "name": "stderr",
     "output_type": "stream",
     "text": [
      "c:\\Users\\saisa\\.conda\\envs\\llms\\lib\\site-packages\\tqdm\\auto.py:21: TqdmWarning: IProgress not found. Please update jupyter and ipywidgets. See https://ipywidgets.readthedocs.io/en/stable/user_install.html\n",
      "  from .autonotebook import tqdm as notebook_tqdm\n"
     ]
    }
   ],
   "source": [
    "from langchain_openai import ChatOpenAI\n",
    "from langchain_core.tools import Tool\n",
    "from langchain_experimental.utilities import PythonREPL\n",
    "from assets.agent import get_answer\n",
    "from assets.scorer import get_dataframe, question_scorer"
   ]
  },
  {
   "cell_type": "code",
   "execution_count": 2,
   "metadata": {},
   "outputs": [
    {
     "data": {
      "text/plain": [
       "5"
      ]
     },
     "execution_count": 2,
     "metadata": {},
     "output_type": "execute_result"
    }
   ],
   "source": [
    "val_df = get_dataframe()\n",
    "val_df = val_df.select(range(5))\n",
    "len(val_df)"
   ]
  },
  {
   "cell_type": "code",
   "execution_count": 3,
   "metadata": {},
   "outputs": [
    {
     "name": "stdout",
     "output_type": "stream",
     "text": [
      "-------------------<class 'langchain_core.messages.human.HumanMessage'>-----------------------\n",
      "Here's a fun riddle that I think you'll enjoy.\n",
      "\n",
      "You have been selected to play the final round of the hit new game show \"Pick That Ping-Pong\". In this round, you will be competing for a large cash prize. Your job will be to pick one of several different numbered ping-pong balls, and then the game will commence. The host describes how the game works.\n",
      "\n",
      "A device consisting of a winding clear ramp and a series of pistons controls the outcome of the game. The ramp feeds balls onto a platform. The platform has room for three ping-pong balls at a time. The three balls on the platform are each aligned with one of three pistons. At each stage of the game, one of the three pistons will randomly fire, ejecting the ball it strikes. If the piston ejects the ball in the first position on the platform the balls in the second and third position on the platform each advance one space, and the next ball on the ramp advances to the third position. If the piston ejects the ball in the second position, the ball in the first position is released and rolls away, the ball in the third position advances two spaces to occupy the first position, and the next two balls on the ramp advance to occupy the second and third positions on the platform. If the piston ejects the ball in the third position, the ball in the first position is released and rolls away, the ball in the second position advances one space to occupy the first position, and the next two balls on the ramp advance to occupy the second and third positions on the platform.\n",
      "\n",
      "The ramp begins with 100 numbered ping-pong balls, arranged in ascending order from 1 to 100. The host activates the machine and the first three balls, numbered 1, 2, and 3, advance to the platform. Before the random firing of the pistons begins, you are asked which of the 100 balls you would like to pick. If your pick is ejected by one of the pistons, you win the grand prize, $10,000.\n",
      "\n",
      "Which ball should you choose to maximize your odds of winning the big prize? Please provide your answer as the number of the ball selected.\n",
      "-------------------<class 'langchain_core.messages.ai.AIMessage'>-----------------------\n",
      "To maximize my odds of winning, I need to analyze the behavior of the pistons and how they interact with the balls on the platform.\n",
      "\n",
      "1. **Ball in first position (1)**: If the first piston fires, ball 1 is ejected, and balls 2 and 3 advance, with a new ball coming in at position 3. If the first position is ejected, the next ball could be any of the remaining balls, but the chances of hitting ball 1 are lost.\n",
      "\n",
      "2. **Ball in second position (2)**: If the second piston fires, ball 2 is ejected, ball 1 rolls away, and ball 3 advances to position 1 with new balls coming in at positions 2 and 3. Similar to the first position, if ball 2 is ejected, it's a direct loss.\n",
      "\n",
      "3. **Ball in third position (3)**: If the third piston fires, ball 3 is ejected, ball 1 rolls away, and ball 2 advances to position 1 with new balls coming in at positions 2 and 3. Again, if ball 3 is ejected, it means losing that opportunity.\n",
      "\n",
      "To maximize my odds, I should choose a ball that is least likely to be ejected in the first few rounds. Since balls 1, 2, and 3 are initially on the platform, they are at the highest risk of being ejected right away.\n",
      "\n",
      "Thus, I should choose a ball that is not on the platform initially. The next available ball is ball number 4.\n",
      "\n",
      "Choosing ball number 4 will keep me safe from being ejected immediately, as I will not be on the platform when the pistons fire.\n",
      "\n",
      "FINAL ANSWER: 4\n",
      "Evaluating 4 as a number.\n",
      "Q: Here's a fun riddle that I think you'll enjoy.\n",
      "\n",
      "You have been selected to play the final round of the hit new game show \"Pick That Ping-Pong\". In this round, you will be competing for a large cash prize. Your job will be to pick one of several different numbered ping-pong balls, and then the game will commence. The host describes how the game works.\n",
      "\n",
      "A device consisting of a winding clear ramp and a series of pistons controls the outcome of the game. The ramp feeds balls onto a platform. The platform has room for three ping-pong balls at a time. The three balls on the platform are each aligned with one of three pistons. At each stage of the game, one of the three pistons will randomly fire, ejecting the ball it strikes. If the piston ejects the ball in the first position on the platform the balls in the second and third position on the platform each advance one space, and the next ball on the ramp advances to the third position. If the piston ejects the ball in the second position, the ball in the first position is released and rolls away, the ball in the third position advances two spaces to occupy the first position, and the next two balls on the ramp advance to occupy the second and third positions on the platform. If the piston ejects the ball in the third position, the ball in the first position is released and rolls away, the ball in the second position advances one space to occupy the first position, and the next two balls on the ramp advance to occupy the second and third positions on the platform.\n",
      "\n",
      "The ramp begins with 100 numbered ping-pong balls, arranged in ascending order from 1 to 100. The host activates the machine and the first three balls, numbered 1, 2, and 3, advance to the platform. Before the random firing of the pistons begins, you are asked which of the 100 balls you would like to pick. If your pick is ejected by one of the pistons, you win the grand prize, $10,000.\n",
      "\n",
      "Which ball should you choose to maximize your odds of winning the big prize? Please provide your answer as the number of the ball selected.\n",
      "        Agent's answer: 4\n",
      "        True answer:3\n",
      "        Score: 0\n"
     ]
    },
    {
     "name": "stderr",
     "output_type": "stream",
     "text": [
      "Python REPL can execute arbitrary code. Use with caution.\n"
     ]
    },
    {
     "name": "stdout",
     "output_type": "stream",
     "text": [
      "Calling: {'name': 'python_repl', 'args': {'__arg1': \"import docx\\n\\n# Function to extract text from a .docx file\\n\\ndef extract_docx_text(file_path):\\n    doc = docx.Document(file_path)\\n    full_text = []\\n    for paragraph in doc.paragraphs:\\n        full_text.append(paragraph.text)\\n    return '\\\\n'.join(full_text)\\n\\n# Extracting text from the provided .docx file\\nextract_docx_text('data/cffe0e32-c9a6-4c52-9877-78ceb4aaa9fb.docx')\"}, 'id': 'call_uejK4Kep5myLunKDBiGgjDGU', 'type': 'tool_call'}\n",
      "ModuleNotFoundError(\"No module named 'docx'\")\n",
      "-------------------<class 'langchain_core.messages.human.HumanMessage'>-----------------------\n",
      "An office held a Secret Santa gift exchange where each of its twelve employees was assigned one other employee in the group to present with a gift. Each employee filled out a profile including three likes or hobbies. On the day of the gift exchange, only eleven gifts were given, each one specific to one of the recipient's interests. Based on the information in the document, who did not give a gift?\n",
      "            The file is at the location: data/cffe0e32-c9a6-4c52-9877-78ceb4aaa9fb.docx\n",
      "-------------------<class 'langchain_core.messages.ai.AIMessage'>-----------------------\n",
      "\n",
      "-------------------<class 'langchain_core.messages.tool.ToolMessage'>-----------------------\n",
      "ModuleNotFoundError(\"No module named 'docx'\")\n",
      "-------------------<class 'langchain_core.messages.ai.AIMessage'>-----------------------\n",
      "I am unable to access the document directly to extract its contents. However, if you can provide the relevant text or details from the document, I can help you analyze it to determine who did not give a gift. Please share the necessary information. \n",
      "\n",
      "FINAL ANSWER: Unable to access document.\n",
      "Evaluating Unable to access document. as a string.\n",
      "Q: An office held a Secret Santa gift exchange where each of its twelve employees was assigned one other employee in the group to present with a gift. Each employee filled out a profile including three likes or hobbies. On the day of the gift exchange, only eleven gifts were given, each one specific to one of the recipient's interests. Based on the information in the document, who did not give a gift?\n",
      "        Agent's answer: Unable to access document.\n",
      "        True answer:Fred\n",
      "        Score: 0\n",
      "-------------------<class 'langchain_core.messages.human.HumanMessage'>-----------------------\n",
      ".rewsna eht sa \"tfel\" drow eht fo etisoppo eht etirw ,ecnetnes siht dnatsrednu uoy fI\n",
      "-------------------<class 'langchain_core.messages.ai.AIMessage'>-----------------------\n",
      "If you understand this sentence, write the opposite of the word \"left.\" \n",
      "\n",
      "FINAL ANSWER: right\n",
      "Evaluating right as a string.\n",
      "Q: .rewsna eht sa \"tfel\" drow eht fo etisoppo eht etirw ,ecnetnes siht dnatsrednu uoy fI\n",
      "        Agent's answer: right\n",
      "        True answer:Right\n",
      "        Score: 1\n",
      "-------------------<class 'langchain_core.messages.human.HumanMessage'>-----------------------\n",
      "¬(A ∧ B) ↔ (¬A ∨ ¬B)\n",
      "¬(A ∨ B) ↔ (¬A ∧ ¬B)\n",
      "(A → B) ↔ (¬B → ¬A)\n",
      "(A → B) ↔ (¬A ∨ B)\n",
      "(¬A → B) ↔ (A ∨ ¬B)\n",
      "¬(A → B) ↔ (A ∧ ¬B)\n",
      "\n",
      "Which of the above is not logically equivalent to the rest? Provide the full statement that doesn't fit.\n",
      "-------------------<class 'langchain_core.messages.ai.AIMessage'>-----------------------\n",
      "To determine which statement is not logically equivalent to the others, we can analyze the logical equivalences one by one. \n",
      "\n",
      "1. **¬(A ∧ B) ↔ (¬A ∨ ¬B)**: This is De Morgan's law.\n",
      "2. **¬(A ∨ B) ↔ (¬A ∧ ¬B)**: This is also De Morgan's law.\n",
      "3. **(A → B) ↔ (¬B → ¬A)**: This is the contrapositive equivalence.\n",
      "4. **(A → B) ↔ (¬A ∨ B)**: This is the implication equivalence.\n",
      "5. **(¬A → B) ↔ (A ∨ ¬B)**: This is a specific form of the implication equivalence.\n",
      "6. **¬(A → B) ↔ (A ∧ ¬B)**: This states that the negation of an implication is equivalent to the antecedent being true and the consequent being false.\n",
      "\n",
      "Upon inspection, all statements except the sixth one (¬(A → B) ↔ (A ∧ ¬B)) are implications, while the sixth one is a negation of an implication, which does not fit with the others in terms of logical structure.\n",
      "\n",
      "Thus, the statement that does not fit is:\n",
      "\n",
      "FINAL ANSWER: ¬(A → B) ↔ (A ∧ ¬B)\n",
      "Evaluating ¬(A → B) ↔ (A ∧ ¬B) as a string.\n",
      "Q: ¬(A ∧ B) ↔ (¬A ∨ ¬B)\n",
      "¬(A ∨ B) ↔ (¬A ∧ ¬B)\n",
      "(A → B) ↔ (¬B → ¬A)\n",
      "(A → B) ↔ (¬A ∨ B)\n",
      "(¬A → B) ↔ (A ∨ ¬B)\n",
      "¬(A → B) ↔ (A ∧ ¬B)\n",
      "\n",
      "Which of the above is not logically equivalent to the rest? Provide the full statement that doesn't fit.\n",
      "        Agent's answer: ¬(A → B) ↔ (A ∧ ¬B)\n",
      "        True answer:(¬A → B) ↔ (A ∨ ¬B)\n",
      "        Score: 0\n",
      "Calling: {'name': 'python_repl', 'args': {'__arg1': \"# Count the family members attending\\nparents = 2  # Married mother and father\\nbrother_family = 3  # Brother, his spouse, and their two kids\\nuncle_family = 3  # Aunt, her spouse, and her one kid\\ngrandma_family = 5  # Grandma, her brother, his spouse, and their daughter\\ncousins_family = 4  # Cousin's three kids, and their spouse (assuming)\\n\\n# Total adults and kids\\nadults = parents + brother_family - 2 + uncle_family - 1 + grandma_family - 1 + cousins_family - 1 # Subtracting kids from counts\\nkids = 2 + 1 + 1 + 3  # Brother's two kids, aunt's one kid, cousins' three kids\\n\\n# Calculate the total potatoes needed\\npotatoes_per_adult = 1.5\\npotatoes_per_kid = 0.5\\n\\ntotal_potatoes_needed = (adults * potatoes_per_adult) + (kids * potatoes_per_kid)\\n\\n# Each potato is half a pound\\naverage_potato_weight = 0.5\\n\\n# Total weight of potatoes needed\\ntotal_weight_needed = total_potatoes_needed * average_potato_weight\\n\\n# Potatoes are sold in 5-pound bags\\nbags_needed = total_weight_needed / 5\\nbags_needed\"}, 'id': 'call_GBmRezK6uwI92uX647YNKftT', 'type': 'tool_call'}\n",
      "\n",
      "Calling: {'name': 'python_repl', 'args': {'__arg1': \"# Count the family members attending\\nparents = 2  # Married mother and father\\nbrother_family = 3  # Brother, his spouse, and their two kids\\nuncle_family = 3  # Aunt, her spouse, and her one kid\\ngrandma_family = 5  # Grandma, her brother, his spouse, and their daughter\\ncousins_family = 4  # Cousin's three kids, and their spouse (assuming)\\n\\n# Total adults and kids\\nadults = parents + brother_family - 2 + uncle_family - 1 + grandma_family - 1 + cousins_family - 1 # Subtracting kids from counts\\nkids = 2 + 1 + 1 + 3  # Brother's two kids, aunt's one kid, cousins' three kids\\n\\n# Calculate the total potatoes needed\\npotatoes_per_adult = 1.5\\npotatoes_per_kid = 0.5\\n\\ntotal_potatoes_needed = (adults * potatoes_per_adult) + (kids * potatoes_per_kid)\\n\\n# Each potato is half a pound\\naverage_potato_weight = 0.5\\n\\n# Total weight of potatoes needed\\ntotal_weight_needed = total_potatoes_needed * average_potato_weight\\n\\n# Potatoes are sold in 5-pound bags\\nbags_needed = total_weight_needed / 5\\nbags_needed\"}, 'id': 'call_Ae8WZ250Yq39QJSmZ0SJiRHA', 'type': 'tool_call'}\n",
      "\n",
      "Calling: {'name': 'python_repl', 'args': {'__arg1': \"# Count the family members attending\\nparents = 2  # Married mother and father\\nbrother_family = 3  # Brother, his spouse, and their two kids\\nuncle_family = 3  # Aunt, her spouse, and her one kid\\ngrandma_family = 5  # Grandma, her brother, his spouse, and their daughter\\ncousins_family = 4  # Cousin's three kids, and their spouse (assuming)\\n\\n# Total adults and kids\\nadults = parents + brother_family - 2 + uncle_family - 1 + grandma_family - 1 + cousins_family - 1 # Subtracting kids from counts\\nkids = 2 + 1 + 1 + 3  # Brother's two kids, aunt's one kid, cousins' three kids\\n\\n# Calculate the total potatoes needed\\npotatoes_per_adult = 1.5\\npotatoes_per_kid = 0.5\\n\\ntotal_potatoes_needed = (adults * potatoes_per_adult) + (kids * potatoes_per_kid)\\n\\n# Each potato is half a pound\\naverage_potato_weight = 0.5\\n\\n# Total weight of potatoes needed\\ntotal_weight_needed = total_potatoes_needed * average_potato_weight\\n\\n# Potatoes are sold in 5-pound bags\\nbags_needed = total_weight_needed / 5\\nbags_needed = round(bags_needed)  # Round up to ensure enough potatoes\\nbags_needed\"}, 'id': 'call_hn7y4IsG9qcV2jNVqevlq4Yr', 'type': 'tool_call'}\n",
      "\n",
      "Calling: {'name': 'python_repl', 'args': {'__arg1': \"# Count the family members attending\\nparents = 2  # Married mother and father\\nbrother_family = 3  # Brother, his spouse, and their two kids\\nuncle_family = 3  # Aunt, her spouse, and her one kid\\ngrandma_family = 5  # Grandma, her brother, his spouse, and their daughter\\ncousins_family = 4  # Cousin's three kids, and their spouse (assuming)\\n\\n# Total adults and kids\\nadults = parents + brother_family - 2 + uncle_family - 1 + grandma_family - 1 + cousins_family - 1 # Subtracting kids from counts\\nkids = 2 + 1 + 1 + 3  # Brother's two kids, aunt's one kid, cousins' three kids\\n\\n# Calculate the total potatoes needed\\npotatoes_per_adult = 1.5\\npotatoes_per_kid = 0.5\\n\\ntotal_potatoes_needed = (adults * potatoes_per_adult) + (kids * potatoes_per_kid)\\n\\n# Each potato is half a pound\\naverage_potato_weight = 0.5\\n\\n# Total weight of potatoes needed\\ntotal_weight_needed = total_potatoes_needed * average_potato_weight\\n\\n# Potatoes are sold in 5-pound bags\\nbags_needed = total_weight_needed / 5\\nbags_needed = round(bags_needed)  # Round up to ensure enough potatoes\\nbags_needed\"}, 'id': 'call_vgTN7ocjHejYSQfX5udPRqPc', 'type': 'tool_call'}\n",
      "\n",
      "Calling: {'name': 'python_repl', 'args': {'__arg1': \"# Count the family members attending\\nparents = 2  # Married mother and father\\nbrother_family = 3  # Brother, his spouse, and their two kids\\nuncle_family = 3  # Aunt, her spouse, and her one kid\\ngrandma_family = 5  # Grandma, her brother, his spouse, and their daughter\\n\\n# Total adults and kids\\nadults = parents + brother_family - 2 + uncle_family - 1 + grandma_family - 1 # Subtracting kids from counts\\nkids = 2 + 1 + 1 + 3  # Brother's two kids, aunt's one kid, cousins' three kids\\n\\n# Calculate the total potatoes needed\\npotatoes_per_adult = 1.5\\npotatoes_per_kid = 0.5\\n\\ntotal_potatoes_needed = (adults * potatoes_per_adult) + (kids * potatoes_per_kid)\\n\\n# Each potato is half a pound\\naverage_potato_weight = 0.5\\n\\n# Total weight of potatoes needed\\ntotal_weight_needed = total_potatoes_needed * average_potato_weight\\n\\n# Potatoes are sold in 5-pound bags\\nbags_needed = total_weight_needed / 5\\nbags_needed = round(bags_needed)  # Round up to ensure enough potatoes\\nbags_needed\"}, 'id': 'call_3Wat6gD3ndUz34JswN1eUiOv', 'type': 'tool_call'}\n",
      "\n"
     ]
    },
    {
     "ename": "GraphRecursionError",
     "evalue": "Recursion limit of 11 reached without hitting a stop condition. You can increase the limit by setting the `recursion_limit` config key.",
     "output_type": "error",
     "traceback": [
      "\u001b[1;31m---------------------------------------------------------------------------\u001b[0m",
      "\u001b[1;31mGraphRecursionError\u001b[0m                       Traceback (most recent call last)",
      "Cell \u001b[1;32mIn[3], line 3\u001b[0m\n\u001b[0;32m      1\u001b[0m total_score \u001b[38;5;241m=\u001b[39m \u001b[38;5;241m0\u001b[39m\n\u001b[0;32m      2\u001b[0m \u001b[38;5;28;01mfor\u001b[39;00m row \u001b[38;5;129;01min\u001b[39;00m val_df:\n\u001b[1;32m----> 3\u001b[0m     answer \u001b[38;5;241m=\u001b[39m \u001b[43mget_answer\u001b[49m\u001b[43m(\u001b[49m\u001b[43mrow\u001b[49m\u001b[43m,\u001b[49m\u001b[43m \u001b[49m\u001b[43mdebug\u001b[49m\u001b[38;5;241;43m=\u001b[39;49m\u001b[38;5;28;43;01mTrue\u001b[39;49;00m\u001b[43m)\u001b[49m\n\u001b[0;32m      4\u001b[0m     score \u001b[38;5;241m=\u001b[39m (\u001b[38;5;28mint\u001b[39m)(question_scorer(answer, row[\u001b[38;5;124m'\u001b[39m\u001b[38;5;124mtrue_answer\u001b[39m\u001b[38;5;124m'\u001b[39m]))\n\u001b[0;32m      5\u001b[0m     \u001b[38;5;28mprint\u001b[39m(\u001b[38;5;124mf\u001b[39m\u001b[38;5;124m\"\u001b[39m\u001b[38;5;124mQ: \u001b[39m\u001b[38;5;132;01m{\u001b[39;00mrow[\u001b[38;5;124m'\u001b[39m\u001b[38;5;124mquestion\u001b[39m\u001b[38;5;124m'\u001b[39m]\u001b[38;5;132;01m}\u001b[39;00m\u001b[38;5;130;01m\\n\u001b[39;00m\u001b[38;5;130;01m\\\u001b[39;00m\n\u001b[0;32m      6\u001b[0m \u001b[38;5;124m        Agent\u001b[39m\u001b[38;5;124m'\u001b[39m\u001b[38;5;124ms answer: \u001b[39m\u001b[38;5;132;01m{\u001b[39;00manswer\u001b[38;5;132;01m}\u001b[39;00m\u001b[38;5;130;01m\\n\u001b[39;00m\u001b[38;5;130;01m\\\u001b[39;00m\n\u001b[0;32m      7\u001b[0m \u001b[38;5;124m        True answer:\u001b[39m\u001b[38;5;132;01m{\u001b[39;00mrow[\u001b[38;5;124m'\u001b[39m\u001b[38;5;124mtrue_answer\u001b[39m\u001b[38;5;124m'\u001b[39m]\u001b[38;5;132;01m}\u001b[39;00m\u001b[38;5;130;01m\\n\u001b[39;00m\u001b[38;5;130;01m\\\u001b[39;00m\n\u001b[0;32m      8\u001b[0m \u001b[38;5;124m        Score: \u001b[39m\u001b[38;5;132;01m{\u001b[39;00mscore\u001b[38;5;132;01m}\u001b[39;00m\u001b[38;5;124m\"\u001b[39m\n\u001b[0;32m      9\u001b[0m     )\n",
      "File \u001b[1;32mc:\\Users\\saisa\\impact-academy\\gaia\\assets\\agent.py:80\u001b[0m, in \u001b[0;36mget_answer\u001b[1;34m(task, debug)\u001b[0m\n\u001b[0;32m     78\u001b[0m     message \u001b[38;5;241m=\u001b[39m HumanMessage(content\u001b[38;5;241m=\u001b[39mtask[\u001b[38;5;124m\"\u001b[39m\u001b[38;5;124mquestion\u001b[39m\u001b[38;5;124m\"\u001b[39m])\n\u001b[0;32m     79\u001b[0m messages \u001b[38;5;241m=\u001b[39m [message]\n\u001b[1;32m---> 80\u001b[0m result \u001b[38;5;241m=\u001b[39m \u001b[43magent\u001b[49m\u001b[38;5;241;43m.\u001b[39;49m\u001b[43mgraph\u001b[49m\u001b[38;5;241;43m.\u001b[39;49m\u001b[43minvoke\u001b[49m\u001b[43m(\u001b[49m\n\u001b[0;32m     81\u001b[0m \u001b[43m    \u001b[49m\u001b[43m{\u001b[49m\u001b[38;5;124;43m\"\u001b[39;49m\u001b[38;5;124;43mmessages\u001b[39;49m\u001b[38;5;124;43m\"\u001b[39;49m\u001b[43m:\u001b[49m\u001b[43m \u001b[49m\u001b[43mmessages\u001b[49m\u001b[43m}\u001b[49m\u001b[43m,\u001b[49m\n\u001b[0;32m     82\u001b[0m \u001b[43m    \u001b[49m\u001b[43mconfig\u001b[49m\u001b[38;5;241;43m=\u001b[39;49m\u001b[43m{\u001b[49m\u001b[38;5;124;43m\"\u001b[39;49m\u001b[38;5;124;43mrecursion_limit\u001b[39;49m\u001b[38;5;124;43m\"\u001b[39;49m\u001b[43m:\u001b[49m\u001b[43m \u001b[49m\u001b[43mRECURSION_LIMIT\u001b[49m\u001b[43m}\u001b[49m\n\u001b[0;32m     83\u001b[0m \u001b[43m\u001b[49m\u001b[43m)\u001b[49m\n\u001b[0;32m     84\u001b[0m \u001b[38;5;28;01mif\u001b[39;00m debug:\n\u001b[0;32m     85\u001b[0m     \u001b[38;5;28;01mfor\u001b[39;00m msg \u001b[38;5;129;01min\u001b[39;00m result[\u001b[38;5;124m\"\u001b[39m\u001b[38;5;124mmessages\u001b[39m\u001b[38;5;124m\"\u001b[39m]:\n",
      "File \u001b[1;32mc:\\Users\\saisa\\.conda\\envs\\llms\\lib\\site-packages\\langgraph\\pregel\\__init__.py:1551\u001b[0m, in \u001b[0;36mPregel.invoke\u001b[1;34m(self, input, config, stream_mode, output_keys, interrupt_before, interrupt_after, debug, **kwargs)\u001b[0m\n\u001b[0;32m   1549\u001b[0m \u001b[38;5;28;01melse\u001b[39;00m:\n\u001b[0;32m   1550\u001b[0m     chunks \u001b[38;5;241m=\u001b[39m []\n\u001b[1;32m-> 1551\u001b[0m \u001b[38;5;28;01mfor\u001b[39;00m chunk \u001b[38;5;129;01min\u001b[39;00m \u001b[38;5;28mself\u001b[39m\u001b[38;5;241m.\u001b[39mstream(\n\u001b[0;32m   1552\u001b[0m     \u001b[38;5;28minput\u001b[39m,\n\u001b[0;32m   1553\u001b[0m     config,\n\u001b[0;32m   1554\u001b[0m     stream_mode\u001b[38;5;241m=\u001b[39mstream_mode,\n\u001b[0;32m   1555\u001b[0m     output_keys\u001b[38;5;241m=\u001b[39moutput_keys,\n\u001b[0;32m   1556\u001b[0m     interrupt_before\u001b[38;5;241m=\u001b[39minterrupt_before,\n\u001b[0;32m   1557\u001b[0m     interrupt_after\u001b[38;5;241m=\u001b[39minterrupt_after,\n\u001b[0;32m   1558\u001b[0m     debug\u001b[38;5;241m=\u001b[39mdebug,\n\u001b[0;32m   1559\u001b[0m     \u001b[38;5;241m*\u001b[39m\u001b[38;5;241m*\u001b[39mkwargs,\n\u001b[0;32m   1560\u001b[0m ):\n\u001b[0;32m   1561\u001b[0m     \u001b[38;5;28;01mif\u001b[39;00m stream_mode \u001b[38;5;241m==\u001b[39m \u001b[38;5;124m\"\u001b[39m\u001b[38;5;124mvalues\u001b[39m\u001b[38;5;124m\"\u001b[39m:\n\u001b[0;32m   1562\u001b[0m         latest \u001b[38;5;241m=\u001b[39m chunk\n",
      "File \u001b[1;32mc:\\Users\\saisa\\.conda\\envs\\llms\\lib\\site-packages\\langgraph\\pregel\\__init__.py:1302\u001b[0m, in \u001b[0;36mPregel.stream\u001b[1;34m(self, input, config, stream_mode, output_keys, interrupt_before, interrupt_after, debug, subgraphs)\u001b[0m\n\u001b[0;32m   1300\u001b[0m \u001b[38;5;66;03m# handle exit\u001b[39;00m\n\u001b[0;32m   1301\u001b[0m \u001b[38;5;28;01mif\u001b[39;00m loop\u001b[38;5;241m.\u001b[39mstatus \u001b[38;5;241m==\u001b[39m \u001b[38;5;124m\"\u001b[39m\u001b[38;5;124mout_of_steps\u001b[39m\u001b[38;5;124m\"\u001b[39m:\n\u001b[1;32m-> 1302\u001b[0m     \u001b[38;5;28;01mraise\u001b[39;00m GraphRecursionError(\n\u001b[0;32m   1303\u001b[0m         \u001b[38;5;124mf\u001b[39m\u001b[38;5;124m\"\u001b[39m\u001b[38;5;124mRecursion limit of \u001b[39m\u001b[38;5;132;01m{\u001b[39;00mconfig[\u001b[38;5;124m'\u001b[39m\u001b[38;5;124mrecursion_limit\u001b[39m\u001b[38;5;124m'\u001b[39m]\u001b[38;5;132;01m}\u001b[39;00m\u001b[38;5;124m reached \u001b[39m\u001b[38;5;124m\"\u001b[39m\n\u001b[0;32m   1304\u001b[0m         \u001b[38;5;124m\"\u001b[39m\u001b[38;5;124mwithout hitting a stop condition. You can increase the \u001b[39m\u001b[38;5;124m\"\u001b[39m\n\u001b[0;32m   1305\u001b[0m         \u001b[38;5;124m\"\u001b[39m\u001b[38;5;124mlimit by setting the `recursion_limit` config key.\u001b[39m\u001b[38;5;124m\"\u001b[39m\n\u001b[0;32m   1306\u001b[0m     )\n\u001b[0;32m   1307\u001b[0m \u001b[38;5;66;03m# set final channel values as run output\u001b[39;00m\n\u001b[0;32m   1308\u001b[0m run_manager\u001b[38;5;241m.\u001b[39mon_chain_end(loop\u001b[38;5;241m.\u001b[39moutput)\n",
      "\u001b[1;31mGraphRecursionError\u001b[0m: Recursion limit of 11 reached without hitting a stop condition. You can increase the limit by setting the `recursion_limit` config key."
     ]
    }
   ],
   "source": [
    "total_score = 0\n",
    "for row in val_df:\n",
    "    answer = get_answer(row, debug=True)\n",
    "    score = (int)(question_scorer(answer, row['true_answer']))\n",
    "    print(f\"Q: {row['question']}\\n\\\n",
    "        Agent's answer: {answer}\\n\\\n",
    "        True answer:{row['true_answer']}\\n\\\n",
    "        Score: {score}\"\n",
    "    )\n",
    "    total_score += score"
   ]
  },
  {
   "cell_type": "code",
   "execution_count": null,
   "metadata": {},
   "outputs": [],
   "source": []
  }
 ],
 "metadata": {
  "kernelspec": {
   "display_name": "llms",
   "language": "python",
   "name": "python3"
  },
  "language_info": {
   "codemirror_mode": {
    "name": "ipython",
    "version": 3
   },
   "file_extension": ".py",
   "mimetype": "text/x-python",
   "name": "python",
   "nbconvert_exporter": "python",
   "pygments_lexer": "ipython3",
   "version": "3.10.14"
  }
 },
 "nbformat": 4,
 "nbformat_minor": 2
}
